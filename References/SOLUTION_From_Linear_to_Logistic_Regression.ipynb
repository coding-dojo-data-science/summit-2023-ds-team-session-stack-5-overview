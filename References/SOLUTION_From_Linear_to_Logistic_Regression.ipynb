{
 "cells": [
  {
   "cell_type": "markdown",
   "metadata": {
    "colab_type": "text",
    "id": "view-in-github"
   },
   "source": [
    "<a href=\"https://colab.research.google.com/github/coding-dojo-data-science/from-linear-to-logistic-regression/blob/main/Colab/SOLUTION_From_Linear_to_Logistic_Regression.ipynb\" target=\"_parent\"><img src=\"https://colab.research.google.com/assets/colab-badge.svg\" alt=\"Open In Colab\"/></a>"
   ]
  },
  {
   "cell_type": "markdown",
   "metadata": {
    "id": "J-a9WpeOUr20"
   },
   "source": [
    "# From Linear to Logistic Regression (A Brief Introduction)"
   ]
  },
  {
   "cell_type": "markdown",
   "metadata": {
    "id": "mdbdwshVUr22"
   },
   "source": [
    "- UPDATED 03/02/22\n",
    "- James M. Irving, Ph.D."
   ]
  },
  {
   "cell_type": "markdown",
   "metadata": {
    "id": "v_M0muy4Ur23",
    "toc": true
   },
   "source": [
    "<h1>Table of Contents<span class=\"tocSkip\"></span></h1>\n",
    "<div class=\"toc\"><ul class=\"toc-item\"><li><span><a href=\"#From-Linear-to-Logistic-Regression-(A-Brief-Introduction)\" data-toc-modified-id=\"From-Linear-to-Logistic-Regression-(A-Brief-Introduction)-1\"><span class=\"toc-item-num\">1&nbsp;&nbsp;</span>From Linear to Logistic Regression (A Brief Introduction)</a></span><ul class=\"toc-item\"><li><span><a href=\"#Learning-Objectives\" data-toc-modified-id=\"Learning-Objectives-1.1\"><span class=\"toc-item-num\">1.1&nbsp;&nbsp;</span>Learning Objectives</a></span></li></ul></li><li><span><a href=\"#Predicting-the-Price-of-a-Home-Using-Linear-Regression\" data-toc-modified-id=\"Predicting-the-Price-of-a-Home-Using-Linear-Regression-2\"><span class=\"toc-item-num\">2&nbsp;&nbsp;</span>Predicting the Price of a Home Using Linear Regression</a></span><ul class=\"toc-item\"><li><span><a href=\"#🕹Activity:-Visualizing-Our-Features-vs-Our-Target\" data-toc-modified-id=\"🕹Activity:-Visualizing-Our-Features-vs-Our-Target-2.1\"><span class=\"toc-item-num\">2.1&nbsp;&nbsp;</span><del>🕹Activity:</del> Visualizing Our Features vs Our Target</a></span><ul class=\"toc-item\"><li><span><a href=\"#Functionizing-Our-Code\" data-toc-modified-id=\"Functionizing-Our-Code-2.1.1\"><span class=\"toc-item-num\">2.1.1&nbsp;&nbsp;</span>Functionizing Our Code</a></span></li><li><span><a href=\"#What-Our-Trendline-Tells-Us\" data-toc-modified-id=\"What-Our-Trendline-Tells-Us-2.1.2\"><span class=\"toc-item-num\">2.1.2&nbsp;&nbsp;</span>What Our Trendline Tells Us</a></span></li></ul></li><li><span><a href=\"#🕹Activity:-Predicting-House-Price-with-sci-kit-learn's-LinearRegression\" data-toc-modified-id=\"🕹Activity:-Predicting-House-Price-with-sci-kit-learn's-LinearRegression-2.2\"><span class=\"toc-item-num\">2.2&nbsp;&nbsp;</span>🕹Activity: Predicting House Price with sci-kit learn's <code>LinearRegression</code></a></span><ul class=\"toc-item\"><li><span><a href=\"#What-Coefficients-Did-Our-Model-Find?\" data-toc-modified-id=\"What-Coefficients-Did-Our-Model-Find?-2.2.1\"><span class=\"toc-item-num\">2.2.1&nbsp;&nbsp;</span>What Coefficients Did Our Model Find?</a></span></li></ul></li><li><span><a href=\"#Linear-Regression-Summary\" data-toc-modified-id=\"Linear-Regression-Summary-2.3\"><span class=\"toc-item-num\">2.3&nbsp;&nbsp;</span>Linear Regression Summary</a></span></li></ul></li><li><span><a href=\"#Predicting-the-Probability-of-a-Being-an-Expensive-Home-Logistic-Regression\" data-toc-modified-id=\"Predicting-the-Probability-of-a-Being-an-Expensive-Home-Logistic-Regression-3\"><span class=\"toc-item-num\">3&nbsp;&nbsp;</span>Predicting the Probability of a Being an Expensive Home Logistic Regression</a></span><ul class=\"toc-item\"><li><span><a href=\"#🕹Activity:-Converting-Our-Task-to-A-Classifcation-Task\" data-toc-modified-id=\"🕹Activity:-Converting-Our-Task-to-A-Classifcation-Task-3.1\"><span class=\"toc-item-num\">3.1&nbsp;&nbsp;</span>🕹Activity: Converting Our Task to A Classifcation Task</a></span><ul class=\"toc-item\"><li><span><a href=\"#Visualizing-Our-Features-vs-our-New-Binary-Taget\" data-toc-modified-id=\"Visualizing-Our-Features-vs-our-New-Binary-Taget-3.1.1\"><span class=\"toc-item-num\">3.1.1&nbsp;&nbsp;</span>Visualizing Our Features vs our New Binary Taget</a></span></li><li><span><a href=\"#When-lines-aren't-enough....\" data-toc-modified-id=\"When-lines-aren't-enough....-3.1.2\"><span class=\"toc-item-num\">3.1.2&nbsp;&nbsp;</span>When lines aren't enough....</a></span></li><li><span><a href=\"#Converting-Our-Linear-Equation-to-A-Sigmoid-Curve\" data-toc-modified-id=\"Converting-Our-Linear-Equation-to-A-Sigmoid-Curve-3.1.3\"><span class=\"toc-item-num\">3.1.3&nbsp;&nbsp;</span>Converting Our Linear Equation to A Sigmoid Curve</a></span></li></ul></li><li><span><a href=\"#🕹Activity:-Predicting-if-a-House-Belongs-to-the-&quot;Expensive-Home&quot;-class.\" data-toc-modified-id=\"🕹Activity:-Predicting-if-a-House-Belongs-to-the-&quot;Expensive-Home&quot;-class.-3.2\"><span class=\"toc-item-num\">3.2&nbsp;&nbsp;</span>🕹Activity: Predicting if a House Belongs to the \"Expensive Home\" class.</a></span><ul class=\"toc-item\"><li><ul class=\"toc-item\"><li><span><a href=\"#What-did-we-get?\" data-toc-modified-id=\"What-did-we-get?-3.2.0.1\"><span class=\"toc-item-num\">3.2.0.1&nbsp;&nbsp;</span>What did we get?</a></span></li><li><span><a href=\"#Summary\" data-toc-modified-id=\"Summary-3.2.0.2\"><span class=\"toc-item-num\">3.2.0.2&nbsp;&nbsp;</span>Summary</a></span></li></ul></li></ul></li></ul></li><li><span><a href=\"#Next-Class\" data-toc-modified-id=\"Next-Class-4\"><span class=\"toc-item-num\">4&nbsp;&nbsp;</span>Next Class</a></span></li><li><span><a href=\"#Appendix\" data-toc-modified-id=\"Appendix-5\"><span class=\"toc-item-num\">5&nbsp;&nbsp;</span>Appendix</a></span><ul class=\"toc-item\"><li><ul class=\"toc-item\"><li><span><a href=\"#Converting-Odds-to-Probability\" data-toc-modified-id=\"Converting-Odds-to-Probability-5.0.1\"><span class=\"toc-item-num\">5.0.1&nbsp;&nbsp;</span>Converting Odds to Probability</a></span></li><li><span><a href=\"#Interpreting-Odds-Coefficients\" data-toc-modified-id=\"Interpreting-Odds-Coefficients-5.0.2\"><span class=\"toc-item-num\">5.0.2&nbsp;&nbsp;</span>Interpreting Odds Coefficients</a></span><ul class=\"toc-item\"><li><span><a href=\"#Interpreting-Odds-Coefficients\" data-toc-modified-id=\"Interpreting-Odds-Coefficients-5.0.2.1\"><span class=\"toc-item-num\">5.0.2.1&nbsp;&nbsp;</span>Interpreting Odds Coefficients</a></span></li></ul></li><li><span><a href=\"#Titanic\" data-toc-modified-id=\"Titanic-5.0.3\"><span class=\"toc-item-num\">5.0.3&nbsp;&nbsp;</span>Titanic</a></span></li></ul></li></ul></li></ul></div>"
   ]
  },
  {
   "cell_type": "markdown",
   "metadata": {
    "ExecuteTime": {
     "end_time": "2021-09-30T17:22:57.157124Z",
     "start_time": "2021-09-30T17:22:57.154414Z"
    },
    "id": "YB2J8wZPUr24"
   },
   "source": [
    "## Learning Objectives\n",
    "- To review how linear regression predicts a continuous value.\n",
    "- To understand how we can convert a linear equation to a sigmoid curve bounded between 0 and 1. \n",
    "- To understand how Logistic Regression uses sigmoid curves to predict the probability of belonging to a specific class/category/label.\n",
    "- To apply both Linear Regression and Logistic Regression using sci-kit learn."
   ]
  },
  {
   "cell_type": "markdown",
   "metadata": {
    "id": "mapj4U_kUr24"
   },
   "source": [
    "- Prerequisites/Assumptions:\n",
    "    - Familiar with Linear Regression\n",
    "\n",
    "- Lesson Duration:\n",
    "    - ~15 mins"
   ]
  },
  {
   "cell_type": "markdown",
   "metadata": {
    "id": "folVhH6CUr24"
   },
   "source": [
    "# Predicting the Price of a Home Using Linear Regression"
   ]
  },
  {
   "cell_type": "markdown",
   "metadata": {
    "id": "0iXcmTP1Ur25"
   },
   "source": [
    "<img src=\"https://github.com/jirvingphd/from-linear-to-logistic-regression-brief-intro/blob/main/images/istock24011682medium_1200xx1697-955-0-88.jpg?raw=1\" width=60% alt=\"Source: https://images.app.goo.gl/oJoMSGU8LGgDjkA76\">"
   ]
  },
  {
   "cell_type": "code",
   "execution_count": 1,
   "metadata": {
    "ExecuteTime": {
     "start_time": "2021-10-07T15:08:25.933Z"
    },
    "id": "30QoDlI8Ur25"
   },
   "outputs": [],
   "source": [
    "import pandas as pd\n",
    "import numpy as np\n",
    "import matplotlib as mpl\n",
    "import matplotlib.pyplot as plt\n",
    "import seaborn as sns\n",
    "## Customization Options\n",
    "pd.set_option('display.float_format',lambda x: f\"{x:,.4f}\")\n",
    "plt.style.use('seaborn-talk')"
   ]
  },
  {
   "cell_type": "code",
   "execution_count": 2,
   "metadata": {
    "ExecuteTime": {
     "start_time": "2021-10-07T15:08:25.936Z"
    },
    "id": "D6lViJl_Ur26"
   },
   "outputs": [],
   "source": [
    "## additional required imports\n",
    "from sklearn.model_selection import train_test_split\n",
    "from sklearn.metrics import (r2_score, plot_confusion_matrix,\n",
    "                             classification_report)\n",
    "\n",
    "## Customized Options\n",
    "pd.set_option('display.float_format',lambda x: f\"{x:,.4f}\")\n",
    "plt.style.use('seaborn-talk')"
   ]
  },
  {
   "cell_type": "code",
   "execution_count": 3,
   "metadata": {
    "ExecuteTime": {
     "start_time": "2021-10-07T15:08:25.940Z"
    },
    "colab": {
     "base_uri": "https://localhost:8080/",
     "height": 788
    },
    "id": "aTlOMZXMUr27",
    "outputId": "cd31d2cf-eb3a-45ab-b274-2b0a4d0fcc06"
   },
   "outputs": [
    {
     "name": "stdout",
     "output_type": "stream",
     "text": [
      "<class 'pandas.core.frame.DataFrame'>\n",
      "RangeIndex: 21613 entries, 0 to 21612\n",
      "Data columns (total 21 columns):\n",
      " #   Column         Non-Null Count  Dtype  \n",
      "---  ------         --------------  -----  \n",
      " 0   id             21613 non-null  int64  \n",
      " 1   date           21613 non-null  object \n",
      " 2   price          21613 non-null  float64\n",
      " 3   bedrooms       21613 non-null  int64  \n",
      " 4   bathrooms      21613 non-null  float64\n",
      " 5   sqft_living    21613 non-null  int64  \n",
      " 6   sqft_lot       21613 non-null  int64  \n",
      " 7   floors         21613 non-null  float64\n",
      " 8   waterfront     21613 non-null  int64  \n",
      " 9   view           21613 non-null  int64  \n",
      " 10  condition      21613 non-null  int64  \n",
      " 11  grade          21613 non-null  int64  \n",
      " 12  sqft_above     21613 non-null  int64  \n",
      " 13  sqft_basement  21613 non-null  int64  \n",
      " 14  yr_built       21613 non-null  int64  \n",
      " 15  yr_renovated   21613 non-null  int64  \n",
      " 16  zipcode        21613 non-null  int64  \n",
      " 17  lat            21613 non-null  float64\n",
      " 18  long           21613 non-null  float64\n",
      " 19  sqft_living15  21613 non-null  int64  \n",
      " 20  sqft_lot15     21613 non-null  int64  \n",
      "dtypes: float64(5), int64(15), object(1)\n",
      "memory usage: 3.5+ MB\n"
     ]
    },
    {
     "data": {
      "text/html": [
       "\n",
       "  <div id=\"df-33ad7512-8d82-4bd1-9c43-27c6a255b70e\">\n",
       "    <div class=\"colab-df-container\">\n",
       "      <div>\n",
       "<style scoped>\n",
       "    .dataframe tbody tr th:only-of-type {\n",
       "        vertical-align: middle;\n",
       "    }\n",
       "\n",
       "    .dataframe tbody tr th {\n",
       "        vertical-align: top;\n",
       "    }\n",
       "\n",
       "    .dataframe thead th {\n",
       "        text-align: right;\n",
       "    }\n",
       "</style>\n",
       "<table border=\"1\" class=\"dataframe\">\n",
       "  <thead>\n",
       "    <tr style=\"text-align: right;\">\n",
       "      <th></th>\n",
       "      <th>id</th>\n",
       "      <th>date</th>\n",
       "      <th>price</th>\n",
       "      <th>bedrooms</th>\n",
       "      <th>bathrooms</th>\n",
       "      <th>sqft_living</th>\n",
       "      <th>sqft_lot</th>\n",
       "      <th>floors</th>\n",
       "      <th>waterfront</th>\n",
       "      <th>view</th>\n",
       "      <th>condition</th>\n",
       "      <th>grade</th>\n",
       "      <th>sqft_above</th>\n",
       "      <th>sqft_basement</th>\n",
       "      <th>yr_built</th>\n",
       "      <th>yr_renovated</th>\n",
       "      <th>zipcode</th>\n",
       "      <th>lat</th>\n",
       "      <th>long</th>\n",
       "      <th>sqft_living15</th>\n",
       "      <th>sqft_lot15</th>\n",
       "    </tr>\n",
       "  </thead>\n",
       "  <tbody>\n",
       "    <tr>\n",
       "      <th>0</th>\n",
       "      <td>7129300520</td>\n",
       "      <td>20141013T000000</td>\n",
       "      <td>221,900.0000</td>\n",
       "      <td>3</td>\n",
       "      <td>1.0000</td>\n",
       "      <td>1180</td>\n",
       "      <td>5650</td>\n",
       "      <td>1.0000</td>\n",
       "      <td>0</td>\n",
       "      <td>0</td>\n",
       "      <td>3</td>\n",
       "      <td>7</td>\n",
       "      <td>1180</td>\n",
       "      <td>0</td>\n",
       "      <td>1955</td>\n",
       "      <td>0</td>\n",
       "      <td>98178</td>\n",
       "      <td>47.5112</td>\n",
       "      <td>-122.2570</td>\n",
       "      <td>1340</td>\n",
       "      <td>5650</td>\n",
       "    </tr>\n",
       "    <tr>\n",
       "      <th>1</th>\n",
       "      <td>6414100192</td>\n",
       "      <td>20141209T000000</td>\n",
       "      <td>538,000.0000</td>\n",
       "      <td>3</td>\n",
       "      <td>2.2500</td>\n",
       "      <td>2570</td>\n",
       "      <td>7242</td>\n",
       "      <td>2.0000</td>\n",
       "      <td>0</td>\n",
       "      <td>0</td>\n",
       "      <td>3</td>\n",
       "      <td>7</td>\n",
       "      <td>2170</td>\n",
       "      <td>400</td>\n",
       "      <td>1951</td>\n",
       "      <td>1991</td>\n",
       "      <td>98125</td>\n",
       "      <td>47.7210</td>\n",
       "      <td>-122.3190</td>\n",
       "      <td>1690</td>\n",
       "      <td>7639</td>\n",
       "    </tr>\n",
       "    <tr>\n",
       "      <th>2</th>\n",
       "      <td>5631500400</td>\n",
       "      <td>20150225T000000</td>\n",
       "      <td>180,000.0000</td>\n",
       "      <td>2</td>\n",
       "      <td>1.0000</td>\n",
       "      <td>770</td>\n",
       "      <td>10000</td>\n",
       "      <td>1.0000</td>\n",
       "      <td>0</td>\n",
       "      <td>0</td>\n",
       "      <td>3</td>\n",
       "      <td>6</td>\n",
       "      <td>770</td>\n",
       "      <td>0</td>\n",
       "      <td>1933</td>\n",
       "      <td>0</td>\n",
       "      <td>98028</td>\n",
       "      <td>47.7379</td>\n",
       "      <td>-122.2330</td>\n",
       "      <td>2720</td>\n",
       "      <td>8062</td>\n",
       "    </tr>\n",
       "    <tr>\n",
       "      <th>3</th>\n",
       "      <td>2487200875</td>\n",
       "      <td>20141209T000000</td>\n",
       "      <td>604,000.0000</td>\n",
       "      <td>4</td>\n",
       "      <td>3.0000</td>\n",
       "      <td>1960</td>\n",
       "      <td>5000</td>\n",
       "      <td>1.0000</td>\n",
       "      <td>0</td>\n",
       "      <td>0</td>\n",
       "      <td>5</td>\n",
       "      <td>7</td>\n",
       "      <td>1050</td>\n",
       "      <td>910</td>\n",
       "      <td>1965</td>\n",
       "      <td>0</td>\n",
       "      <td>98136</td>\n",
       "      <td>47.5208</td>\n",
       "      <td>-122.3930</td>\n",
       "      <td>1360</td>\n",
       "      <td>5000</td>\n",
       "    </tr>\n",
       "    <tr>\n",
       "      <th>4</th>\n",
       "      <td>1954400510</td>\n",
       "      <td>20150218T000000</td>\n",
       "      <td>510,000.0000</td>\n",
       "      <td>3</td>\n",
       "      <td>2.0000</td>\n",
       "      <td>1680</td>\n",
       "      <td>8080</td>\n",
       "      <td>1.0000</td>\n",
       "      <td>0</td>\n",
       "      <td>0</td>\n",
       "      <td>3</td>\n",
       "      <td>8</td>\n",
       "      <td>1680</td>\n",
       "      <td>0</td>\n",
       "      <td>1987</td>\n",
       "      <td>0</td>\n",
       "      <td>98074</td>\n",
       "      <td>47.6168</td>\n",
       "      <td>-122.0450</td>\n",
       "      <td>1800</td>\n",
       "      <td>7503</td>\n",
       "    </tr>\n",
       "  </tbody>\n",
       "</table>\n",
       "</div>\n",
       "      <button class=\"colab-df-convert\" onclick=\"convertToInteractive('df-33ad7512-8d82-4bd1-9c43-27c6a255b70e')\"\n",
       "              title=\"Convert this dataframe to an interactive table.\"\n",
       "              style=\"display:none;\">\n",
       "        \n",
       "  <svg xmlns=\"http://www.w3.org/2000/svg\" height=\"24px\"viewBox=\"0 0 24 24\"\n",
       "       width=\"24px\">\n",
       "    <path d=\"M0 0h24v24H0V0z\" fill=\"none\"/>\n",
       "    <path d=\"M18.56 5.44l.94 2.06.94-2.06 2.06-.94-2.06-.94-.94-2.06-.94 2.06-2.06.94zm-11 1L8.5 8.5l.94-2.06 2.06-.94-2.06-.94L8.5 2.5l-.94 2.06-2.06.94zm10 10l.94 2.06.94-2.06 2.06-.94-2.06-.94-.94-2.06-.94 2.06-2.06.94z\"/><path d=\"M17.41 7.96l-1.37-1.37c-.4-.4-.92-.59-1.43-.59-.52 0-1.04.2-1.43.59L10.3 9.45l-7.72 7.72c-.78.78-.78 2.05 0 2.83L4 21.41c.39.39.9.59 1.41.59.51 0 1.02-.2 1.41-.59l7.78-7.78 2.81-2.81c.8-.78.8-2.07 0-2.86zM5.41 20L4 18.59l7.72-7.72 1.47 1.35L5.41 20z\"/>\n",
       "  </svg>\n",
       "      </button>\n",
       "      \n",
       "  <style>\n",
       "    .colab-df-container {\n",
       "      display:flex;\n",
       "      flex-wrap:wrap;\n",
       "      gap: 12px;\n",
       "    }\n",
       "\n",
       "    .colab-df-convert {\n",
       "      background-color: #E8F0FE;\n",
       "      border: none;\n",
       "      border-radius: 50%;\n",
       "      cursor: pointer;\n",
       "      display: none;\n",
       "      fill: #1967D2;\n",
       "      height: 32px;\n",
       "      padding: 0 0 0 0;\n",
       "      width: 32px;\n",
       "    }\n",
       "\n",
       "    .colab-df-convert:hover {\n",
       "      background-color: #E2EBFA;\n",
       "      box-shadow: 0px 1px 2px rgba(60, 64, 67, 0.3), 0px 1px 3px 1px rgba(60, 64, 67, 0.15);\n",
       "      fill: #174EA6;\n",
       "    }\n",
       "\n",
       "    [theme=dark] .colab-df-convert {\n",
       "      background-color: #3B4455;\n",
       "      fill: #D2E3FC;\n",
       "    }\n",
       "\n",
       "    [theme=dark] .colab-df-convert:hover {\n",
       "      background-color: #434B5C;\n",
       "      box-shadow: 0px 1px 3px 1px rgba(0, 0, 0, 0.15);\n",
       "      filter: drop-shadow(0px 1px 2px rgba(0, 0, 0, 0.3));\n",
       "      fill: #FFFFFF;\n",
       "    }\n",
       "  </style>\n",
       "\n",
       "      <script>\n",
       "        const buttonEl =\n",
       "          document.querySelector('#df-33ad7512-8d82-4bd1-9c43-27c6a255b70e button.colab-df-convert');\n",
       "        buttonEl.style.display =\n",
       "          google.colab.kernel.accessAllowed ? 'block' : 'none';\n",
       "\n",
       "        async function convertToInteractive(key) {\n",
       "          const element = document.querySelector('#df-33ad7512-8d82-4bd1-9c43-27c6a255b70e');\n",
       "          const dataTable =\n",
       "            await google.colab.kernel.invokeFunction('convertToInteractive',\n",
       "                                                     [key], {});\n",
       "          if (!dataTable) return;\n",
       "\n",
       "          const docLinkHtml = 'Like what you see? Visit the ' +\n",
       "            '<a target=\"_blank\" href=https://colab.research.google.com/notebooks/data_table.ipynb>data table notebook</a>'\n",
       "            + ' to learn more about interactive tables.';\n",
       "          element.innerHTML = '';\n",
       "          dataTable['output_type'] = 'display_data';\n",
       "          await google.colab.output.renderOutput(dataTable, element);\n",
       "          const docLink = document.createElement('div');\n",
       "          docLink.innerHTML = docLinkHtml;\n",
       "          element.appendChild(docLink);\n",
       "        }\n",
       "      </script>\n",
       "    </div>\n",
       "  </div>\n",
       "  "
      ],
      "text/plain": [
       "           id             date  ...  sqft_living15  sqft_lot15\n",
       "0  7129300520  20141013T000000  ...           1340        5650\n",
       "1  6414100192  20141209T000000  ...           1690        7639\n",
       "2  5631500400  20150225T000000  ...           2720        8062\n",
       "3  2487200875  20141209T000000  ...           1360        5000\n",
       "4  1954400510  20150218T000000  ...           1800        7503\n",
       "\n",
       "[5 rows x 21 columns]"
      ]
     },
     "metadata": {},
     "output_type": "display_data"
    },
    {
     "data": {
      "text/plain": [
       "None"
      ]
     },
     "metadata": {},
     "output_type": "display_data"
    }
   ],
   "source": [
    "## Load in the King's County housing dataset and display the head and info\n",
    "df = pd.read_csv(\"https://docs.google.com/spreadsheets/d/e/2PACX-1vSEZQEzxja7Hmj5tr5nc52QqBvFQdCAGb52e1FRK1PDT2_TQrS6rY_TR9tjZjKaMbCy1m5217sVmI5q/pub?output=csv\")\n",
    "display(df.head(),df.info())"
   ]
  },
  {
   "cell_type": "code",
   "execution_count": 4,
   "metadata": {
    "ExecuteTime": {
     "start_time": "2021-10-07T15:08:25.943Z"
    },
    "colab": {
     "base_uri": "https://localhost:8080/",
     "height": 369
    },
    "id": "sezo7TrTUr27",
    "outputId": "74490af5-d0aa-46ff-e6e7-26aadc9e9b81"
   },
   "outputs": [
    {
     "data": {
      "image/png": "[encoded data removed]",
      "text/plain": [
       "<Figure size 720x360 with 1 Axes>"
      ]
     },
     "metadata": {
      "needs_background": "light"
     },
     "output_type": "display_data"
    }
   ],
   "source": [
    "## Visualize the distribution of house prices (using seaborn!)\n",
    "sns.displot(df['price'],aspect=2);"
   ]
  },
  {
   "cell_type": "markdown",
   "metadata": {
    "id": "g2S-u9fKUr27"
   },
   "source": [
    "## ~~🕹Activity:~~ Visualizing Our Features vs Our Target"
   ]
  },
  {
   "cell_type": "markdown",
   "metadata": {
    "id": "nVmm-u8rUr27"
   },
   "source": [
    "- We want to determine how features of a home influence its sale price. \n",
    "- Specifically, we will be using:\n",
    "    - `sqft_living`:Square-Footage of all Living Areas\n",
    "    - `bedrooms`: # of Bedrooms\n",
    "    - `bathrooms`: # of Bathrooms"
   ]
  },
  {
   "cell_type": "code",
   "execution_count": 5,
   "metadata": {
    "ExecuteTime": {
     "start_time": "2021-10-07T15:08:25.946Z"
    },
    "colab": {
     "base_uri": "https://localhost:8080/",
     "height": 481
    },
    "id": "TvCba57lUr28",
    "outputId": "7d79c467-09b5-421b-b983-9da600a0c2c7"
   },
   "outputs": [
    {
     "data": {
      "image/png": "[encoded data removed]",
      "text/plain": [
       "<Figure size 748.8x514.8 with 1 Axes>"
      ]
     },
     "metadata": {
      "needs_background": "light"
     },
     "output_type": "display_data"
    }
   ],
   "source": [
    "from matplotlib.ticker import StrMethodFormatter\n",
    "## Plot a scatter plot of sqft-living vs price\n",
    "ax = sns.scatterplot(data=df,x='sqft_living',y='price')\n",
    "ax.set_title('Relationship Between Square Footage and Housen Price')\n",
    "\n",
    "## Formatting Price Axis\n",
    "price_fmt = StrMethodFormatter(\"${x:,.0f}\")\n",
    "ax.yaxis.set_major_formatter(price_fmt)"
   ]
  },
  {
   "cell_type": "markdown",
   "metadata": {
    "id": "OIrZ37KQUr28"
   },
   "source": [
    "- We can see a positive relationship between sqft-living and price, but it would be better if we could show the line-of-best-fit with it"
   ]
  },
  {
   "cell_type": "markdown",
   "metadata": {
    "id": "RcXgpoKMUr28"
   },
   "source": [
    "### Functionizing Our Code"
   ]
  },
  {
   "cell_type": "code",
   "execution_count": 6,
   "metadata": {
    "ExecuteTime": {
     "start_time": "2021-10-07T15:08:25.950Z"
    },
    "id": "j89D6W1iUr28"
   },
   "outputs": [],
   "source": [
    "## NOTE: if we had more time, we would write this together.\n",
    "def plot_feature_vs_target(df,x='sqft_living',y='price',price_format=True):\n",
    "    \"\"\"Plots a seaborn regplot of x vs y.\"\"\"\n",
    "    ax = sns.regplot(data=df,x=x,y=y,\n",
    "                line_kws=dict(color='k',ls='--',lw=2),\n",
    "               scatter_kws=dict(s=10,alpha=0.8)\n",
    "                    )\n",
    "    ax.get_figure().set_size_inches(10,6)\n",
    "    ax.set_title(f'{x} vs {y}')\n",
    "    \n",
    "    if price_format:\n",
    "        ## Formatting Price Axis\n",
    "        price_fmt = StrMethodFormatter(\"${x:,.0f}\")\n",
    "        ax.yaxis.set_major_formatter(price_fmt)\n",
    "    return ax"
   ]
  },
  {
   "cell_type": "code",
   "execution_count": 7,
   "metadata": {
    "ExecuteTime": {
     "start_time": "2021-10-07T15:08:25.953Z"
    },
    "colab": {
     "base_uri": "https://localhost:8080/",
     "height": 0
    },
    "id": "nSjqtj75Ur28",
    "outputId": "58d14c52-4bcb-4b68-bb04-5d81135292c1"
   },
   "outputs": [
    {
     "data": {
      "image/png": "[encoded data removed]",
      "text/plain": [
       "<Figure size 720x432 with 1 Axes>"
      ]
     },
     "metadata": {
      "needs_background": "light"
     },
     "output_type": "display_data"
    }
   ],
   "source": [
    "## Visualize the relationship between sqft_living and price\n",
    "plot_feature_vs_target(df,x='sqft_living');"
   ]
  },
  {
   "cell_type": "markdown",
   "metadata": {
    "id": "I4g5udB7Ur28"
   },
   "source": [
    "### What Our Trendline Tells Us\n",
    "- Our trendline summarizes the relationship between our feature and our target.\n",
    "- It is comprised of the: \n",
    "    - y-intercept (AKA $c$ or $b$ or $\\beta_{0}$) indicating the default value of y when X=0.\n",
    "    - and a slope (AKA $m$ or $\\beta$) indicating the relationship between X and y. When X increases by 1, y increases by $m$."
   ]
  },
  {
   "cell_type": "code",
   "execution_count": 8,
   "metadata": {
    "ExecuteTime": {
     "start_time": "2021-10-07T15:08:25.957Z"
    },
    "colab": {
     "base_uri": "https://localhost:8080/",
     "height": 0
    },
    "id": "G8cMMdH2Ur29",
    "outputId": "aa2ca1d2-ddde-4550-9e84-0d62bfb08f30"
   },
   "outputs": [
    {
     "data": {
      "image/png": "[encoded data removed]",
      "text/plain": [
       "<Figure size 720x432 with 1 Axes>"
      ]
     },
     "metadata": {
      "needs_background": "light"
     },
     "output_type": "display_data"
    }
   ],
   "source": [
    "## Visualize the relationship between bathrooms and price\n",
    "plot_feature_vs_target(df,x='bathrooms');"
   ]
  },
  {
   "cell_type": "code",
   "execution_count": 9,
   "metadata": {
    "ExecuteTime": {
     "start_time": "2021-10-07T15:08:25.960Z"
    },
    "colab": {
     "base_uri": "https://localhost:8080/",
     "height": 0
    },
    "id": "ai6fIng1Ur29",
    "outputId": "01db44d2-29a7-424f-ce37-961a9f890a34"
   },
   "outputs": [
    {
     "data": {
      "text/plain": [
       "<matplotlib.axes._subplots.AxesSubplot at 0x7fbfe5f63c50>"
      ]
     },
     "execution_count": 9,
     "metadata": {},
     "output_type": "execute_result"
    },
    {
     "data": {
      "image/png": "[encoded data removed]",
      "text/plain": [
       "<Figure size 720x432 with 1 Axes>"
      ]
     },
     "metadata": {
      "needs_background": "light"
     },
     "output_type": "display_data"
    }
   ],
   "source": [
    "## Visualize the relationship between bedrooms and price\n",
    "plot_feature_vs_target(df,x='bedrooms')"
   ]
  },
  {
   "cell_type": "markdown",
   "metadata": {
    "id": "1l7VMjlkUr29"
   },
   "source": [
    ">- Now, let's create a Linear Regression model with sci-kit learn to determine the effect of these 3 features!"
   ]
  },
  {
   "cell_type": "markdown",
   "metadata": {
    "id": "Eu6XmHXpUr29"
   },
   "source": [
    "## 🕹Activity: Predicting House Price with sci-kit learn's `LinearRegression`"
   ]
  },
  {
   "cell_type": "code",
   "execution_count": 10,
   "metadata": {
    "ExecuteTime": {
     "start_time": "2021-10-07T15:08:25.963Z"
    },
    "colab": {
     "base_uri": "https://localhost:8080/",
     "height": 423
    },
    "id": "K01VKNJ2Ur29",
    "outputId": "70bdf061-d657-4008-f5e8-21b02f215895"
   },
   "outputs": [
    {
     "data": {
      "text/html": [
       "\n",
       "  <div id=\"df-60d7ecfe-3ee6-4650-9ba3-9410e9c58323\">\n",
       "    <div class=\"colab-df-container\">\n",
       "      <div>\n",
       "<style scoped>\n",
       "    .dataframe tbody tr th:only-of-type {\n",
       "        vertical-align: middle;\n",
       "    }\n",
       "\n",
       "    .dataframe tbody tr th {\n",
       "        vertical-align: top;\n",
       "    }\n",
       "\n",
       "    .dataframe thead th {\n",
       "        text-align: right;\n",
       "    }\n",
       "</style>\n",
       "<table border=\"1\" class=\"dataframe\">\n",
       "  <thead>\n",
       "    <tr style=\"text-align: right;\">\n",
       "      <th></th>\n",
       "      <th>bedrooms</th>\n",
       "      <th>bathrooms</th>\n",
       "      <th>sqft_living</th>\n",
       "    </tr>\n",
       "  </thead>\n",
       "  <tbody>\n",
       "    <tr>\n",
       "      <th>8306</th>\n",
       "      <td>3</td>\n",
       "      <td>2.5000</td>\n",
       "      <td>2250</td>\n",
       "    </tr>\n",
       "    <tr>\n",
       "      <th>18426</th>\n",
       "      <td>4</td>\n",
       "      <td>2.7500</td>\n",
       "      <td>1590</td>\n",
       "    </tr>\n",
       "    <tr>\n",
       "      <th>11280</th>\n",
       "      <td>4</td>\n",
       "      <td>1.7500</td>\n",
       "      <td>2040</td>\n",
       "    </tr>\n",
       "    <tr>\n",
       "      <th>13891</th>\n",
       "      <td>3</td>\n",
       "      <td>1.0000</td>\n",
       "      <td>1200</td>\n",
       "    </tr>\n",
       "    <tr>\n",
       "      <th>6498</th>\n",
       "      <td>3</td>\n",
       "      <td>2.2500</td>\n",
       "      <td>1570</td>\n",
       "    </tr>\n",
       "    <tr>\n",
       "      <th>...</th>\n",
       "      <td>...</td>\n",
       "      <td>...</td>\n",
       "      <td>...</td>\n",
       "    </tr>\n",
       "    <tr>\n",
       "      <th>11976</th>\n",
       "      <td>3</td>\n",
       "      <td>2.5000</td>\n",
       "      <td>2230</td>\n",
       "    </tr>\n",
       "    <tr>\n",
       "      <th>5929</th>\n",
       "      <td>3</td>\n",
       "      <td>2.2500</td>\n",
       "      <td>3330</td>\n",
       "    </tr>\n",
       "    <tr>\n",
       "      <th>11039</th>\n",
       "      <td>4</td>\n",
       "      <td>1.7500</td>\n",
       "      <td>2350</td>\n",
       "    </tr>\n",
       "    <tr>\n",
       "      <th>4220</th>\n",
       "      <td>4</td>\n",
       "      <td>2.2500</td>\n",
       "      <td>2890</td>\n",
       "    </tr>\n",
       "    <tr>\n",
       "      <th>6682</th>\n",
       "      <td>4</td>\n",
       "      <td>1.7500</td>\n",
       "      <td>2290</td>\n",
       "    </tr>\n",
       "  </tbody>\n",
       "</table>\n",
       "<p>16209 rows × 3 columns</p>\n",
       "</div>\n",
       "      <button class=\"colab-df-convert\" onclick=\"convertToInteractive('df-60d7ecfe-3ee6-4650-9ba3-9410e9c58323')\"\n",
       "              title=\"Convert this dataframe to an interactive table.\"\n",
       "              style=\"display:none;\">\n",
       "        \n",
       "  <svg xmlns=\"http://www.w3.org/2000/svg\" height=\"24px\"viewBox=\"0 0 24 24\"\n",
       "       width=\"24px\">\n",
       "    <path d=\"M0 0h24v24H0V0z\" fill=\"none\"/>\n",
       "    <path d=\"M18.56 5.44l.94 2.06.94-2.06 2.06-.94-2.06-.94-.94-2.06-.94 2.06-2.06.94zm-11 1L8.5 8.5l.94-2.06 2.06-.94-2.06-.94L8.5 2.5l-.94 2.06-2.06.94zm10 10l.94 2.06.94-2.06 2.06-.94-2.06-.94-.94-2.06-.94 2.06-2.06.94z\"/><path d=\"M17.41 7.96l-1.37-1.37c-.4-.4-.92-.59-1.43-.59-.52 0-1.04.2-1.43.59L10.3 9.45l-7.72 7.72c-.78.78-.78 2.05 0 2.83L4 21.41c.39.39.9.59 1.41.59.51 0 1.02-.2 1.41-.59l7.78-7.78 2.81-2.81c.8-.78.8-2.07 0-2.86zM5.41 20L4 18.59l7.72-7.72 1.47 1.35L5.41 20z\"/>\n",
       "  </svg>\n",
       "      </button>\n",
       "      \n",
       "  <style>\n",
       "    .colab-df-container {\n",
       "      display:flex;\n",
       "      flex-wrap:wrap;\n",
       "      gap: 12px;\n",
       "    }\n",
       "\n",
       "    .colab-df-convert {\n",
       "      background-color: #E8F0FE;\n",
       "      border: none;\n",
       "      border-radius: 50%;\n",
       "      cursor: pointer;\n",
       "      display: none;\n",
       "      fill: #1967D2;\n",
       "      height: 32px;\n",
       "      padding: 0 0 0 0;\n",
       "      width: 32px;\n",
       "    }\n",
       "\n",
       "    .colab-df-convert:hover {\n",
       "      background-color: #E2EBFA;\n",
       "      box-shadow: 0px 1px 2px rgba(60, 64, 67, 0.3), 0px 1px 3px 1px rgba(60, 64, 67, 0.15);\n",
       "      fill: #174EA6;\n",
       "    }\n",
       "\n",
       "    [theme=dark] .colab-df-convert {\n",
       "      background-color: #3B4455;\n",
       "      fill: #D2E3FC;\n",
       "    }\n",
       "\n",
       "    [theme=dark] .colab-df-convert:hover {\n",
       "      background-color: #434B5C;\n",
       "      box-shadow: 0px 1px 3px 1px rgba(0, 0, 0, 0.15);\n",
       "      filter: drop-shadow(0px 1px 2px rgba(0, 0, 0, 0.3));\n",
       "      fill: #FFFFFF;\n",
       "    }\n",
       "  </style>\n",
       "\n",
       "      <script>\n",
       "        const buttonEl =\n",
       "          document.querySelector('#df-60d7ecfe-3ee6-4650-9ba3-9410e9c58323 button.colab-df-convert');\n",
       "        buttonEl.style.display =\n",
       "          google.colab.kernel.accessAllowed ? 'block' : 'none';\n",
       "\n",
       "        async function convertToInteractive(key) {\n",
       "          const element = document.querySelector('#df-60d7ecfe-3ee6-4650-9ba3-9410e9c58323');\n",
       "          const dataTable =\n",
       "            await google.colab.kernel.invokeFunction('convertToInteractive',\n",
       "                                                     [key], {});\n",
       "          if (!dataTable) return;\n",
       "\n",
       "          const docLinkHtml = 'Like what you see? Visit the ' +\n",
       "            '<a target=\"_blank\" href=https://colab.research.google.com/notebooks/data_table.ipynb>data table notebook</a>'\n",
       "            + ' to learn more about interactive tables.';\n",
       "          element.innerHTML = '';\n",
       "          dataTable['output_type'] = 'display_data';\n",
       "          await google.colab.output.renderOutput(dataTable, element);\n",
       "          const docLink = document.createElement('div');\n",
       "          docLink.innerHTML = docLinkHtml;\n",
       "          element.appendChild(docLink);\n",
       "        }\n",
       "      </script>\n",
       "    </div>\n",
       "  </div>\n",
       "  "
      ],
      "text/plain": [
       "       bedrooms  bathrooms  sqft_living\n",
       "8306          3     2.5000         2250\n",
       "18426         4     2.7500         1590\n",
       "11280         4     1.7500         2040\n",
       "13891         3     1.0000         1200\n",
       "6498          3     2.2500         1570\n",
       "...         ...        ...          ...\n",
       "11976         3     2.5000         2230\n",
       "5929          3     2.2500         3330\n",
       "11039         4     1.7500         2350\n",
       "4220          4     2.2500         2890\n",
       "6682          4     1.7500         2290\n",
       "\n",
       "[16209 rows x 3 columns]"
      ]
     },
     "execution_count": 10,
     "metadata": {},
     "output_type": "execute_result"
    }
   ],
   "source": [
    "## Create our X & y using bedrooms,bathrooms, sqft-living\n",
    "use_cols = ['bedrooms','bathrooms','sqft_living']\n",
    "X = df[use_cols].copy()\n",
    "y = df['price'].copy()\n",
    "\n",
    "## Train test split (random-state 321, test_size=0.25)\n",
    "X_train,X_test,y_train,y_test = train_test_split(X,y,test_size=0.25,random_state=321)\n",
    "X_train"
   ]
  },
  {
   "cell_type": "code",
   "execution_count": 11,
   "metadata": {
    "ExecuteTime": {
     "start_time": "2021-10-07T15:08:25.966Z"
    },
    "colab": {
     "base_uri": "https://localhost:8080/"
    },
    "id": "Wiw55IU_Ur29",
    "outputId": "f015b05d-06ff-4144-97b4-c309a300b47b"
   },
   "outputs": [
    {
     "data": {
      "text/plain": [
       "LinearRegression()"
      ]
     },
     "execution_count": 11,
     "metadata": {},
     "output_type": "execute_result"
    }
   ],
   "source": [
    "## import LinearRegression from sklearn and fit the model\n",
    "from sklearn.linear_model import LinearRegression\n",
    "linreg = LinearRegression()\n",
    "linreg.fit(X_train,y_train)"
   ]
  },
  {
   "cell_type": "code",
   "execution_count": 12,
   "metadata": {
    "ExecuteTime": {
     "start_time": "2021-10-07T15:08:25.969Z"
    },
    "colab": {
     "base_uri": "https://localhost:8080/"
    },
    "id": "AgmxqsN5Ur29",
    "outputId": "105ee7e7-123f-48d0-ea17-813c7beb2eae"
   },
   "outputs": [
    {
     "name": "stdout",
     "output_type": "stream",
     "text": [
      "Training R-Squared: 0.503\n",
      "Test R-Squared: 0.520\n"
     ]
    }
   ],
   "source": [
    "## Get our models' R-squared value for the train and test data\n",
    "print(f\"Training R-Squared: {linreg.score(X_train,y_train):.3f}\")\n",
    "print(f\"Test R-Squared: {linreg.score(X_test,y_test):.3f}\")"
   ]
  },
  {
   "cell_type": "markdown",
   "metadata": {
    "id": "RlZwL_fHUr29"
   },
   "source": [
    ">- Ok, so what does this tell us?\n",
    "    - Our model can explain 52% of the variance of house price using just 3 features!"
   ]
  },
  {
   "cell_type": "markdown",
   "metadata": {
    "id": "-R8cvyTsUr29"
   },
   "source": [
    "### What Coefficients Did Our Model Find? "
   ]
  },
  {
   "cell_type": "code",
   "execution_count": 13,
   "metadata": {
    "ExecuteTime": {
     "start_time": "2021-10-07T15:08:25.973Z"
    },
    "id": "ejwWiXcFUr29"
   },
   "outputs": [],
   "source": [
    "## NOTE: with more time, we would code this together. \n",
    "def get_coeffs(reg,X_train):\n",
    "    \"\"\"Extracts the coefficients from a scikit-learn LinearRegression or LogisticRegression\"\"\"\n",
    "    coeffs = pd.Series(reg.coef_.flatten(),index=X_train.columns)\n",
    "    \n",
    "    if isinstance(reg.intercept_,np.ndarray):\n",
    "        coeffs.loc['intercept'] = reg.intercept_[0]\n",
    "    else:\n",
    "        coeffs.loc['intercept'] = reg.intercept_\n",
    "\n",
    "    return coeffs"
   ]
  },
  {
   "cell_type": "markdown",
   "metadata": {
    "id": "73uUw32cUr2-"
   },
   "source": [
    "- Linear Regression Equation\n",
    "$$ \\large \\hat y = \\beta_0 + \\beta_1 x_1 + \\beta_2 x_2 + \\ldots + \\beta_n x_n  $$\n",
    "which we can simplify to:\n",
    "$$ \\hat y =  \\sum_{i=0}^{N} \\beta_i x_i  $$"
   ]
  },
  {
   "cell_type": "code",
   "execution_count": 14,
   "metadata": {
    "ExecuteTime": {
     "start_time": "2021-10-07T15:08:25.976Z"
    },
    "colab": {
     "base_uri": "https://localhost:8080/"
    },
    "id": "gnkU9GzjUr2-",
    "outputId": "91cb12e4-eab3-46c6-d396-da85336738a4"
   },
   "outputs": [
    {
     "data": {
      "text/plain": [
       "bedrooms      -56,388.9627\n",
       "bathrooms       8,191.3418\n",
       "sqft_living       308.7627\n",
       "intercept      72,396.5478\n",
       "dtype: float64"
      ]
     },
     "execution_count": 14,
     "metadata": {},
     "output_type": "execute_result"
    }
   ],
   "source": [
    "## Get the coefficents from the model using our new function\n",
    "coeffs = get_coeffs(linreg,X_train)\n",
    "coeffs"
   ]
  },
  {
   "cell_type": "markdown",
   "metadata": {
    "id": "A964L7FkUr2-"
   },
   "source": [
    ">- **Each coefficient tells us the effect of increasing the values in that column by 1 unit.** \n",
    ">- According to our model, we can determine a home's price using the following results:\n",
    "    - The model assumed a default/starting house price was \\$72,570.76 (the intercept)\n",
    "    - For each additional bedrooms, subtract      \\$56,340.077\n",
    "    - For each batrhoom, add \\$8,206.82\n",
    "    - For each square foot of living space, add \\$308.54"
   ]
  },
  {
   "cell_type": "code",
   "execution_count": 15,
   "metadata": {
    "ExecuteTime": {
     "start_time": "2021-10-07T15:08:25.979Z"
    },
    "colab": {
     "base_uri": "https://localhost:8080/"
    },
    "id": "JYiA4-MoUr2-",
    "outputId": "b9ac5a8a-28d8-480f-818a-e8de77200ac7",
    "scrolled": true
   },
   "outputs": [
    {
     "data": {
      "text/plain": [
       "bedrooms          4.0000\n",
       "bathrooms         1.7500\n",
       "sqft_living   1,320.0000\n",
       "Name: 18586, dtype: float64"
      ]
     },
     "execution_count": 15,
     "metadata": {},
     "output_type": "execute_result"
    }
   ],
   "source": [
    "## Let's select an example house and see how we calculate price\n",
    "i = 300\n",
    "house = X_test.iloc[i]\n",
    "house"
   ]
  },
  {
   "cell_type": "code",
   "execution_count": 16,
   "metadata": {
    "ExecuteTime": {
     "start_time": "2021-10-07T15:08:25.983Z"
    },
    "colab": {
     "base_uri": "https://localhost:8080/"
    },
    "id": "9uLzbDdWUr2-",
    "outputId": "98329a05-4c56-412a-db02-c9426f593ac3"
   },
   "outputs": [
    {
     "name": "stdout",
     "output_type": "stream",
     "text": [
      "$268,742.28\n"
     ]
    }
   ],
   "source": [
    "## Calculate the home's predicted price using our coefficients\n",
    "price = house['bedrooms']*coeffs['bedrooms'] + \\\n",
    "        house['bathrooms']*coeffs['bathrooms'] + \\\n",
    "        house['sqft_living']*coeffs['sqft_living'] + coeffs['intercept']\n",
    "\n",
    "print(f\"${price:,.2f}\")"
   ]
  },
  {
   "cell_type": "code",
   "execution_count": 17,
   "metadata": {
    "ExecuteTime": {
     "start_time": "2021-10-07T15:08:25.986Z"
    },
    "colab": {
     "base_uri": "https://localhost:8080/"
    },
    "id": "PdmOd_zYUr2-",
    "outputId": "e5c79bc0-2b2e-40a6-9cae-388e05110ba5"
   },
   "outputs": [
    {
     "name": "stderr",
     "output_type": "stream",
     "text": [
      "/usr/local/lib/python3.7/dist-packages/sklearn/base.py:451: UserWarning: X does not have valid feature names, but LinearRegression was fitted with feature names\n",
      "  \"X does not have valid feature names, but\"\n"
     ]
    },
    {
     "data": {
      "text/plain": [
       "array([268742.27880413])"
      ]
     },
     "execution_count": 17,
     "metadata": {},
     "output_type": "execute_result"
    }
   ],
   "source": [
    "## What would our model predict for our test house?\n",
    "linreg.predict(house.values.reshape(1,-1))"
   ]
  },
  {
   "cell_type": "markdown",
   "metadata": {
    "id": "zRAieYgvUr2-"
   },
   "source": [
    "## Linear Regression Summary\n",
    "- Linear regression allowed us to predict the exact dollar price of a given home.\n",
    "- It summarizes the relationship of each feature using coefficients, which are used to calculate the target. \n",
    "\n",
    ">-  But what do we do when we want to predict what group a house belongs to instead of an exact price?"
   ]
  },
  {
   "cell_type": "markdown",
   "metadata": {
    "id": "tg5K24OkUr2-"
   },
   "source": [
    "# Predicting the Probability of a Being an Expensive Home Logistic Regression"
   ]
  },
  {
   "cell_type": "markdown",
   "metadata": {
    "id": "EWn6DVhSUr2-"
   },
   "source": [
    "## 🕹Activity: Converting Our Task to A Classifcation Task"
   ]
  },
  {
   "cell_type": "code",
   "execution_count": 18,
   "metadata": {
    "ExecuteTime": {
     "start_time": "2021-10-07T15:08:25.991Z"
    },
    "colab": {
     "base_uri": "https://localhost:8080/",
     "height": 369
    },
    "id": "ke1MsyvHUr2-",
    "outputId": "d28cd4d2-b738-429a-b883-c5ed14096836"
   },
   "outputs": [
    {
     "data": {
      "image/png": "[encoded data removed]",
      "text/plain": [
       "<Figure size 720x360 with 1 Axes>"
      ]
     },
     "metadata": {
      "needs_background": "light"
     },
     "output_type": "display_data"
    }
   ],
   "source": [
    "## Plot the distribution of house price again. \n",
    "g = sns.displot(df['price'],aspect=2)"
   ]
  },
  {
   "cell_type": "markdown",
   "metadata": {
    "id": "xk21hSuNUr2-"
   },
   "source": [
    "- Let's create a new \"Expensive Home\" categorical target column (1=Expensive Home, 0= Not-Expensive Home)\n",
    "    - First, we need to determine what we consider expensive!\n",
    "        - For today, we will define the top 10% most expensive homes as the \"Expensive Home\" category. "
   ]
  },
  {
   "cell_type": "code",
   "execution_count": 19,
   "metadata": {
    "ExecuteTime": {
     "start_time": "2021-10-07T15:08:25.994Z"
    },
    "colab": {
     "base_uri": "https://localhost:8080/",
     "height": 387
    },
    "id": "ZzIoetfSUr2-",
    "outputId": "c07bb342-54bf-4e0c-ae43-10f5ef691906",
    "scrolled": false
   },
   "outputs": [
    {
     "data": {
      "text/plain": [
       "<matplotlib.legend.Legend at 0x7fbfe37e4e50>"
      ]
     },
     "execution_count": 19,
     "metadata": {},
     "output_type": "execute_result"
    },
    {
     "data": {
      "image/png": "[encoded data removed]",
      "text/plain": [
       "<Figure size 720x360 with 1 Axes>"
      ]
     },
     "metadata": {
      "needs_background": "light"
     },
     "output_type": "display_data"
    }
   ],
   "source": [
    "## Test out using different quantiles as our cutoff\n",
    "cutoff = df['price'].quantile(q=0.90)\n",
    "\n",
    "## Plot the distrubtion again and add the cutoff as a vertical line\n",
    "g = sns.displot(df['price'],aspect=2)\n",
    "g.ax.axvline(cutoff,color='black',label='cutoff',ls='--')\n",
    "g.ax.legend()"
   ]
  },
  {
   "cell_type": "code",
   "execution_count": 20,
   "metadata": {
    "ExecuteTime": {
     "start_time": "2021-10-07T15:08:25.997Z"
    },
    "colab": {
     "base_uri": "https://localhost:8080/"
    },
    "id": "_njZfuPKUr2-",
    "outputId": "18c01a50-9233-492b-8170-a17efdd499f1"
   },
   "outputs": [
    {
     "data": {
      "text/plain": [
       "0   0.8999\n",
       "1   0.1001\n",
       "Name: Expensive Home, dtype: float64"
      ]
     },
     "execution_count": 20,
     "metadata": {},
     "output_type": "execute_result"
    }
   ],
   "source": [
    "## Use our cutoff to create the Expensive Home column (as a 0 or 1)\n",
    "df['Expensive Home'] = (df['price'] >= cutoff).astype(int)\n",
    "\n",
    "## Visualize how many houses in each group\n",
    "# sns.countplot(data=df, x='Expensive Home');\n",
    "df['Expensive Home'].value_counts(normalize=True)"
   ]
  },
  {
   "cell_type": "markdown",
   "metadata": {
    "id": "n02Xb0GHUr2-"
   },
   "source": [
    ">- While our classes are imbalanced, diving into various methods to deal with imbalanced classes is beyond the score of today's lesson."
   ]
  },
  {
   "cell_type": "markdown",
   "metadata": {
    "id": "3HDIS2PFUr2-"
   },
   "source": [
    "### Visualizing Our Features vs our New Binary Taget\n",
    "<!-- Predicting \"Expensive Homes\" -->\n",
    "- We want to determine how features of a home influence the chance the home belongs to the Epensive Home category. \n",
    "- Let's visualize our features again, but now vs our new target. "
   ]
  },
  {
   "cell_type": "code",
   "execution_count": 21,
   "metadata": {
    "ExecuteTime": {
     "start_time": "2021-10-07T15:08:26.001Z"
    },
    "colab": {
     "base_uri": "https://localhost:8080/",
     "height": 0
    },
    "id": "_rSHpa2EUr2-",
    "outputId": "b8b739b7-8aa6-4bfc-baad-6996c216e8c1"
   },
   "outputs": [
    {
     "data": {
      "image/png": "[encoded data removed]",
      "text/plain": [
       "<Figure size 720x432 with 1 Axes>"
      ]
     },
     "metadata": {
      "needs_background": "light"
     },
     "output_type": "display_data"
    }
   ],
   "source": [
    "## Visualize the relationship between sqft_living and Expensive Home\n",
    "ax = plot_feature_vs_target(df,x='sqft_living',y='Expensive Home',\n",
    "                            price_format=False)\n",
    "ax.set_ylim(-.1,1.1);"
   ]
  },
  {
   "cell_type": "code",
   "execution_count": 22,
   "metadata": {
    "ExecuteTime": {
     "start_time": "2021-10-07T15:08:26.004Z"
    },
    "colab": {
     "base_uri": "https://localhost:8080/",
     "height": 0
    },
    "id": "HGVYuS85Ur2_",
    "outputId": "d2a7fc58-65e1-40e2-9d3b-6f8d5131d121"
   },
   "outputs": [
    {
     "data": {
      "image/png": "[encoded data removed]",
      "text/plain": [
       "<Figure size 720x432 with 1 Axes>"
      ]
     },
     "metadata": {
      "needs_background": "light"
     },
     "output_type": "display_data"
    }
   ],
   "source": [
    "## Visualize the relationship between bathrooms and Expensive Home\n",
    "ax = plot_feature_vs_target(df,x='bathrooms',y='Expensive Home',\n",
    "                           price_format=False)\n",
    "ax.set_ylim(-.1,1.1);"
   ]
  },
  {
   "cell_type": "code",
   "execution_count": 23,
   "metadata": {
    "ExecuteTime": {
     "start_time": "2021-10-07T15:08:26.007Z"
    },
    "colab": {
     "base_uri": "https://localhost:8080/",
     "height": 0
    },
    "id": "qvc8gUSzUr2_",
    "outputId": "a8c3fd3a-9969-4efe-f996-a66ce242c976"
   },
   "outputs": [
    {
     "data": {
      "image/png": "[encoded data removed]",
      "text/plain": [
       "<Figure size 720x432 with 1 Axes>"
      ]
     },
     "metadata": {
      "needs_background": "light"
     },
     "output_type": "display_data"
    }
   ],
   "source": [
    "## Visualize the relationship between bedrooms and Expensive Home\n",
    "ax = plot_feature_vs_target(df,x='bedrooms',y='Expensive Home',\n",
    "                            price_format=False)\n",
    "ax.set_ylim(-.1,1.1);"
   ]
  },
  {
   "cell_type": "markdown",
   "metadata": {
    "id": "iBHTnLWYUr2_"
   },
   "source": [
    "### When lines aren't enough...."
   ]
  },
  {
   "cell_type": "markdown",
   "metadata": {
    "id": "XBqk4_V9Ur2_"
   },
   "source": [
    ">- Hmmm... this doesn't look like it will work. Our trend lines are just not appropriate for predicting which group a house belongs to.\n",
    "\n",
    "- ***How can use a linear regression equation to calculate the probability of being in the Expensive Home group?***\n",
    "\n",
    "- Transform Linear Regression Equation into a Sigmoid Curve!"
   ]
  },
  {
   "cell_type": "markdown",
   "metadata": {
    "id": "177166rlUr2_"
   },
   "source": [
    "### Converting Our Linear Equation to A Sigmoid Curve\n",
    "- Remember our linear regression equation can be summarized as:\n",
    "$$ \\hat y = \\sum_{i=0}^{N} \\beta_i x_i $$\n",
    "\n",
    "- By taking this equation and moving it to the denominator, we can restrict our output to values between 0 and 1.\n",
    "$$\\large \\text{Prob} = \\displaystyle \\frac{1}{1+e^{-\\hat y}} = \\frac{1}{1+e^{-\\sum_{i=0}^{N} \\beta_i x_i}} $$\n",
    "\n",
    "$$ \\large = \\frac{1}{1+e^{-\\beta_0}e^{-\\beta_1 x_1}\\ldots e^{-\\beta_N x_N}} $$\n",
    "\n",
    ">- **Visual Example of Converting Linear Equation to a Sigmoid Curve** [Desmos Example](https://www.desmos.com/calculator/vk1afglgyc)"
   ]
  },
  {
   "cell_type": "markdown",
   "metadata": {
    "id": "0Mt4ZMpWUr2_"
   },
   "source": [
    "## 🕹Activity: Predicting if a House Belongs to the \"Expensive Home\" class. "
   ]
  },
  {
   "cell_type": "code",
   "execution_count": 24,
   "metadata": {
    "ExecuteTime": {
     "start_time": "2021-10-07T15:08:26.011Z"
    },
    "colab": {
     "base_uri": "https://localhost:8080/",
     "height": 423
    },
    "id": "3V1ZciZ5Ur2_",
    "outputId": "e6f7e9ae-fcc2-4615-bc9e-627dc5146c83"
   },
   "outputs": [
    {
     "data": {
      "text/html": [
       "\n",
       "  <div id=\"df-a05f44f5-2e9f-44c4-8bc2-dbdcce3a3106\">\n",
       "    <div class=\"colab-df-container\">\n",
       "      <div>\n",
       "<style scoped>\n",
       "    .dataframe tbody tr th:only-of-type {\n",
       "        vertical-align: middle;\n",
       "    }\n",
       "\n",
       "    .dataframe tbody tr th {\n",
       "        vertical-align: top;\n",
       "    }\n",
       "\n",
       "    .dataframe thead th {\n",
       "        text-align: right;\n",
       "    }\n",
       "</style>\n",
       "<table border=\"1\" class=\"dataframe\">\n",
       "  <thead>\n",
       "    <tr style=\"text-align: right;\">\n",
       "      <th></th>\n",
       "      <th>bedrooms</th>\n",
       "      <th>bathrooms</th>\n",
       "      <th>sqft_living</th>\n",
       "    </tr>\n",
       "  </thead>\n",
       "  <tbody>\n",
       "    <tr>\n",
       "      <th>8306</th>\n",
       "      <td>3</td>\n",
       "      <td>2.5000</td>\n",
       "      <td>2250</td>\n",
       "    </tr>\n",
       "    <tr>\n",
       "      <th>18426</th>\n",
       "      <td>4</td>\n",
       "      <td>2.7500</td>\n",
       "      <td>1590</td>\n",
       "    </tr>\n",
       "    <tr>\n",
       "      <th>11280</th>\n",
       "      <td>4</td>\n",
       "      <td>1.7500</td>\n",
       "      <td>2040</td>\n",
       "    </tr>\n",
       "    <tr>\n",
       "      <th>13891</th>\n",
       "      <td>3</td>\n",
       "      <td>1.0000</td>\n",
       "      <td>1200</td>\n",
       "    </tr>\n",
       "    <tr>\n",
       "      <th>6498</th>\n",
       "      <td>3</td>\n",
       "      <td>2.2500</td>\n",
       "      <td>1570</td>\n",
       "    </tr>\n",
       "    <tr>\n",
       "      <th>...</th>\n",
       "      <td>...</td>\n",
       "      <td>...</td>\n",
       "      <td>...</td>\n",
       "    </tr>\n",
       "    <tr>\n",
       "      <th>11976</th>\n",
       "      <td>3</td>\n",
       "      <td>2.5000</td>\n",
       "      <td>2230</td>\n",
       "    </tr>\n",
       "    <tr>\n",
       "      <th>5929</th>\n",
       "      <td>3</td>\n",
       "      <td>2.2500</td>\n",
       "      <td>3330</td>\n",
       "    </tr>\n",
       "    <tr>\n",
       "      <th>11039</th>\n",
       "      <td>4</td>\n",
       "      <td>1.7500</td>\n",
       "      <td>2350</td>\n",
       "    </tr>\n",
       "    <tr>\n",
       "      <th>4220</th>\n",
       "      <td>4</td>\n",
       "      <td>2.2500</td>\n",
       "      <td>2890</td>\n",
       "    </tr>\n",
       "    <tr>\n",
       "      <th>6682</th>\n",
       "      <td>4</td>\n",
       "      <td>1.7500</td>\n",
       "      <td>2290</td>\n",
       "    </tr>\n",
       "  </tbody>\n",
       "</table>\n",
       "<p>16209 rows × 3 columns</p>\n",
       "</div>\n",
       "      <button class=\"colab-df-convert\" onclick=\"convertToInteractive('df-a05f44f5-2e9f-44c4-8bc2-dbdcce3a3106')\"\n",
       "              title=\"Convert this dataframe to an interactive table.\"\n",
       "              style=\"display:none;\">\n",
       "        \n",
       "  <svg xmlns=\"http://www.w3.org/2000/svg\" height=\"24px\"viewBox=\"0 0 24 24\"\n",
       "       width=\"24px\">\n",
       "    <path d=\"M0 0h24v24H0V0z\" fill=\"none\"/>\n",
       "    <path d=\"M18.56 5.44l.94 2.06.94-2.06 2.06-.94-2.06-.94-.94-2.06-.94 2.06-2.06.94zm-11 1L8.5 8.5l.94-2.06 2.06-.94-2.06-.94L8.5 2.5l-.94 2.06-2.06.94zm10 10l.94 2.06.94-2.06 2.06-.94-2.06-.94-.94-2.06-.94 2.06-2.06.94z\"/><path d=\"M17.41 7.96l-1.37-1.37c-.4-.4-.92-.59-1.43-.59-.52 0-1.04.2-1.43.59L10.3 9.45l-7.72 7.72c-.78.78-.78 2.05 0 2.83L4 21.41c.39.39.9.59 1.41.59.51 0 1.02-.2 1.41-.59l7.78-7.78 2.81-2.81c.8-.78.8-2.07 0-2.86zM5.41 20L4 18.59l7.72-7.72 1.47 1.35L5.41 20z\"/>\n",
       "  </svg>\n",
       "      </button>\n",
       "      \n",
       "  <style>\n",
       "    .colab-df-container {\n",
       "      display:flex;\n",
       "      flex-wrap:wrap;\n",
       "      gap: 12px;\n",
       "    }\n",
       "\n",
       "    .colab-df-convert {\n",
       "      background-color: #E8F0FE;\n",
       "      border: none;\n",
       "      border-radius: 50%;\n",
       "      cursor: pointer;\n",
       "      display: none;\n",
       "      fill: #1967D2;\n",
       "      height: 32px;\n",
       "      padding: 0 0 0 0;\n",
       "      width: 32px;\n",
       "    }\n",
       "\n",
       "    .colab-df-convert:hover {\n",
       "      background-color: #E2EBFA;\n",
       "      box-shadow: 0px 1px 2px rgba(60, 64, 67, 0.3), 0px 1px 3px 1px rgba(60, 64, 67, 0.15);\n",
       "      fill: #174EA6;\n",
       "    }\n",
       "\n",
       "    [theme=dark] .colab-df-convert {\n",
       "      background-color: #3B4455;\n",
       "      fill: #D2E3FC;\n",
       "    }\n",
       "\n",
       "    [theme=dark] .colab-df-convert:hover {\n",
       "      background-color: #434B5C;\n",
       "      box-shadow: 0px 1px 3px 1px rgba(0, 0, 0, 0.15);\n",
       "      filter: drop-shadow(0px 1px 2px rgba(0, 0, 0, 0.3));\n",
       "      fill: #FFFFFF;\n",
       "    }\n",
       "  </style>\n",
       "\n",
       "      <script>\n",
       "        const buttonEl =\n",
       "          document.querySelector('#df-a05f44f5-2e9f-44c4-8bc2-dbdcce3a3106 button.colab-df-convert');\n",
       "        buttonEl.style.display =\n",
       "          google.colab.kernel.accessAllowed ? 'block' : 'none';\n",
       "\n",
       "        async function convertToInteractive(key) {\n",
       "          const element = document.querySelector('#df-a05f44f5-2e9f-44c4-8bc2-dbdcce3a3106');\n",
       "          const dataTable =\n",
       "            await google.colab.kernel.invokeFunction('convertToInteractive',\n",
       "                                                     [key], {});\n",
       "          if (!dataTable) return;\n",
       "\n",
       "          const docLinkHtml = 'Like what you see? Visit the ' +\n",
       "            '<a target=\"_blank\" href=https://colab.research.google.com/notebooks/data_table.ipynb>data table notebook</a>'\n",
       "            + ' to learn more about interactive tables.';\n",
       "          element.innerHTML = '';\n",
       "          dataTable['output_type'] = 'display_data';\n",
       "          await google.colab.output.renderOutput(dataTable, element);\n",
       "          const docLink = document.createElement('div');\n",
       "          docLink.innerHTML = docLinkHtml;\n",
       "          element.appendChild(docLink);\n",
       "        }\n",
       "      </script>\n",
       "    </div>\n",
       "  </div>\n",
       "  "
      ],
      "text/plain": [
       "       bedrooms  bathrooms  sqft_living\n",
       "8306          3     2.5000         2250\n",
       "18426         4     2.7500         1590\n",
       "11280         4     1.7500         2040\n",
       "13891         3     1.0000         1200\n",
       "6498          3     2.2500         1570\n",
       "...         ...        ...          ...\n",
       "11976         3     2.5000         2230\n",
       "5929          3     2.2500         3330\n",
       "11039         4     1.7500         2350\n",
       "4220          4     2.2500         2890\n",
       "6682          4     1.7500         2290\n",
       "\n",
       "[16209 rows x 3 columns]"
      ]
     },
     "execution_count": 24,
     "metadata": {},
     "output_type": "execute_result"
    }
   ],
   "source": [
    "## Create X & y and train test split, just like before (except new target)\n",
    "use_cols = ['bedrooms','bathrooms','sqft_living']\n",
    "X_train,X_test,y_train,y_test = train_test_split(df[use_cols],\n",
    "                                                 df['Expensive Home'],\n",
    "                                                random_state=321)\n",
    "X_train"
   ]
  },
  {
   "cell_type": "code",
   "execution_count": 25,
   "metadata": {
    "ExecuteTime": {
     "start_time": "2021-10-07T15:08:26.014Z"
    },
    "colab": {
     "base_uri": "https://localhost:8080/"
    },
    "id": "41R3xZdQUr2_",
    "outputId": "4374fa9c-3456-4c88-a92b-978355988daa"
   },
   "outputs": [
    {
     "data": {
      "text/plain": [
       "0.8373427091043671"
      ]
     },
     "execution_count": 25,
     "metadata": {},
     "output_type": "execute_result"
    }
   ],
   "source": [
    "## Import LogisticRegression \n",
    "\n",
    "from sklearn.linear_model import LogisticRegression\n",
    "\n",
    "# Initialize and fit model (use class_weight='balanced',will explain in-depth next class!)\n",
    "logreg = LogisticRegression(class_weight='balanced')\n",
    "\n",
    "logreg.fit(X_train,y_train)\n",
    "logreg.score(X_test,y_test)"
   ]
  },
  {
   "cell_type": "code",
   "execution_count": 26,
   "metadata": {
    "ExecuteTime": {
     "start_time": "2021-10-07T15:08:26.018Z"
    },
    "colab": {
     "base_uri": "https://localhost:8080/"
    },
    "id": "kQsq3ro-Ur2_",
    "outputId": "f7fde6c2-8da7-4d24-c5d9-12c086845d48"
   },
   "outputs": [
    {
     "data": {
      "text/plain": [
       "bedrooms      -0.1826\n",
       "bathrooms      0.1436\n",
       "sqft_living    0.0022\n",
       "intercept     -5.5532\n",
       "dtype: float64"
      ]
     },
     "execution_count": 26,
     "metadata": {},
     "output_type": "execute_result"
    }
   ],
   "source": [
    "## Get the coefficents the model determined\n",
    "logreg_coeffs = get_coeffs(logreg,X_train)\n",
    "logreg_coeffs"
   ]
  },
  {
   "cell_type": "code",
   "execution_count": 27,
   "metadata": {
    "ExecuteTime": {
     "start_time": "2021-10-07T15:08:26.021Z"
    },
    "colab": {
     "base_uri": "https://localhost:8080/"
    },
    "id": "MCgm5vzvUr2_",
    "outputId": "6cf9882f-ca08-4fd6-f62e-68f7f2f5b15d",
    "scrolled": true
   },
   "outputs": [
    {
     "data": {
      "text/plain": [
       "bedrooms          4.0000\n",
       "bathrooms         1.7500\n",
       "sqft_living   1,320.0000\n",
       "Name: 18586, dtype: float64"
      ]
     },
     "execution_count": 27,
     "metadata": {},
     "output_type": "execute_result"
    }
   ],
   "source": [
    "## Let's select an example house\n",
    "i = 300\n",
    "house = X_test.iloc[i]\n",
    "house"
   ]
  },
  {
   "cell_type": "code",
   "execution_count": 28,
   "metadata": {
    "ExecuteTime": {
     "start_time": "2021-10-07T15:08:26.024Z"
    },
    "colab": {
     "base_uri": "https://localhost:8080/"
    },
    "id": "_j35o0mnUr2_",
    "outputId": "4844bb78-8c10-4984-c48f-d9fe2891fd8e"
   },
   "outputs": [
    {
     "data": {
      "text/plain": [
       "-3.077093049138846"
      ]
     },
     "execution_count": 28,
     "metadata": {},
     "output_type": "execute_result"
    }
   ],
   "source": [
    "## calculate the home's probability of being an Expensive Home \n",
    "expensive = house['bedrooms']*logreg_coeffs['bedrooms'] + \\\n",
    "        house['bathrooms']*logreg_coeffs['bathrooms'] + \\\n",
    "        house['sqft_living']*logreg_coeffs['sqft_living'] + logreg_coeffs['intercept']\n",
    "\n",
    "expensive"
   ]
  },
  {
   "cell_type": "markdown",
   "metadata": {
    "id": "Gc2fZ8a1Ur2_"
   },
   "source": [
    "- ***Hmmm...this doesn't seem right. I thought probabilities were always between 0 and 1? What gives?***"
   ]
  },
  {
   "cell_type": "markdown",
   "metadata": {
    "id": "Ni14OUBXUr2_"
   },
   "source": [
    ">\"...logistic regression coefficients represent the **log odds** that an observation is in the target \\class (“1”) given the values of its X variables. Thus, these log odd coefficients need to be converted to regular odds in order to make sense of them. Happily, this is done by simply exponentiating the log odds coefficients, which you can do with np.exp()\"<br>- Source: [Medium Blog Post on Interpreting Linear Regression and Logistic Regression Coefficients](https://towardsdatascience.com/interpreting-coefficients-in-linear-and-logistic-regression-6ddf1295f6f1)"
   ]
  },
  {
   "cell_type": "code",
   "execution_count": 29,
   "metadata": {
    "ExecuteTime": {
     "start_time": "2021-10-07T15:08:26.027Z"
    },
    "colab": {
     "base_uri": "https://localhost:8080/"
    },
    "id": "xIk2c7sQUr2_",
    "outputId": "f98de43c-c4a7-41ab-ad50-11962d42d80c"
   },
   "outputs": [
    {
     "data": {
      "text/plain": [
       "0.04609305232424628"
      ]
     },
     "execution_count": 29,
     "metadata": {},
     "output_type": "execute_result"
    }
   ],
   "source": [
    "## Convert log-odds to odds\n",
    "np.exp(expensive)"
   ]
  },
  {
   "cell_type": "markdown",
   "metadata": {
    "id": "8l2VTDpNUr2_"
   },
   "source": [
    ">- **Odds are how much more likely to fall into 1 class than 0 class.**\n",
    "    - A value of 1 means both classes are equally like. \n",
    "    - A value > 1 means that the 1 class is more likely than the 0 class.\n",
    "    - A value < 1 means that the 1 class is less likely than the 0 class.\n",
    "    \n",
    "    \n",
    "- Therefore, our calculated 0.046 means that we are much less likely to be an Expensive Home than an Non-Expensive Home."
   ]
  },
  {
   "cell_type": "code",
   "execution_count": 30,
   "metadata": {
    "ExecuteTime": {
     "start_time": "2021-10-07T15:08:26.030Z"
    },
    "colab": {
     "base_uri": "https://localhost:8080/"
    },
    "id": "5q7AujlXUr2_",
    "outputId": "8c73b9d4-93b5-4fed-b1f3-de0b5c845d24"
   },
   "outputs": [
    {
     "name": "stderr",
     "output_type": "stream",
     "text": [
      "/usr/local/lib/python3.7/dist-packages/sklearn/base.py:451: UserWarning: X does not have valid feature names, but LogisticRegression was fitted with feature names\n",
      "  \"X does not have valid feature names, but\"\n"
     ]
    },
    {
     "data": {
      "text/plain": [
       "array([0])"
      ]
     },
     "execution_count": 30,
     "metadata": {},
     "output_type": "execute_result"
    }
   ],
   "source": [
    "## Let's check what our model would predict\n",
    "logreg.predict(X_test.iloc[i].values.reshape(1,-11))"
   ]
  },
  {
   "cell_type": "markdown",
   "metadata": {
    "id": "X9sNw6L5Ur2_"
   },
   "source": [
    "#### What did we get?\n",
    "> Hey...thats not odds or probability!\n",
    "\n",
    "- Nope! scikit-learn's `logreg.predict` method assumes you wanted to know which **class/label** was more likely. \n",
    "- To find out the **probability** of being an Expensive Home, we can use `logreg.predict_proba`"
   ]
  },
  {
   "cell_type": "code",
   "execution_count": 31,
   "metadata": {
    "ExecuteTime": {
     "start_time": "2021-10-07T15:08:26.034Z"
    },
    "colab": {
     "base_uri": "https://localhost:8080/"
    },
    "id": "J5ymSmdyUr3A",
    "outputId": "dbc35428-1dfb-4714-bafe-9aa1b6159cb1"
   },
   "outputs": [
    {
     "name": "stderr",
     "output_type": "stream",
     "text": [
      "/usr/local/lib/python3.7/dist-packages/sklearn/base.py:451: UserWarning: X does not have valid feature names, but LogisticRegression was fitted with feature names\n",
      "  \"X does not have valid feature names, but\"\n"
     ]
    },
    {
     "data": {
      "text/plain": [
       "array([[0.9559379, 0.0440621]])"
      ]
     },
     "execution_count": 31,
     "metadata": {},
     "output_type": "execute_result"
    }
   ],
   "source": [
    "## get the probabilities using predict_proba\n",
    "logreg.predict_proba(X_test.iloc[i].values.reshape(1,-11))"
   ]
  },
  {
   "cell_type": "code",
   "execution_count": 32,
   "metadata": {
    "ExecuteTime": {
     "start_time": "2021-10-07T15:08:26.037Z"
    },
    "colab": {
     "base_uri": "https://localhost:8080/"
    },
    "id": "8YEkXoD7Ur3A",
    "outputId": "e25a32b3-a46c-4ec5-b2f5-3dc6be40edea"
   },
   "outputs": [
    {
     "data": {
      "text/plain": [
       "0"
      ]
     },
     "execution_count": 32,
     "metadata": {},
     "output_type": "execute_result"
    }
   ],
   "source": [
    "## OK, so what is the ACTUAL class of our example home?\n",
    "y_test.iloc[i]"
   ]
  },
  {
   "cell_type": "markdown",
   "metadata": {
    "id": "VZbj_stMUr3A"
   },
   "source": [
    "#### Summary\n",
    "- Today we used a LogisticRegression model to predict which class each row belong to. \n",
    "- We discussed how the sigmoid curve allows us to predict probabilities with a variant of linear regression. \n"
   ]
  },
  {
   "cell_type": "markdown",
   "metadata": {
    "id": "dcDPMrWnUr3A"
   },
   "source": [
    "# Next Class"
   ]
  },
  {
   "cell_type": "markdown",
   "metadata": {
    "id": "9w9DDuqjUr3A"
   },
   "source": [
    "- How to evaluate our classification model. \n",
    "- How to deal with imbalanced classes. \n",
    "- Regularization and the hyperparameter `C`"
   ]
  },
  {
   "cell_type": "code",
   "execution_count": 33,
   "metadata": {
    "ExecuteTime": {
     "start_time": "2021-10-07T15:08:26.041Z"
    },
    "colab": {
     "base_uri": "https://localhost:8080/",
     "height": 679
    },
    "id": "z6uHhx5HUr3A",
    "outputId": "f84b1f8a-7828-46d8-981b-61edd309efab"
   },
   "outputs": [
    {
     "name": "stderr",
     "output_type": "stream",
     "text": [
      "/usr/local/lib/python3.7/dist-packages/sklearn/utils/deprecation.py:87: FutureWarning: Function plot_confusion_matrix is deprecated; Function `plot_confusion_matrix` is deprecated in 1.0 and will be removed in 1.2. Use one of the class methods: ConfusionMatrixDisplay.from_predictions or ConfusionMatrixDisplay.from_estimator.\n",
      "  warnings.warn(msg, category=FutureWarning)\n"
     ]
    },
    {
     "name": "stdout",
     "output_type": "stream",
     "text": [
      "               precision    recall  f1-score   support\n",
      "\n",
      "Not Expensive       0.98      0.84      0.90      4879\n",
      "    Expensive       0.35      0.80      0.49       525\n",
      "\n",
      "     accuracy                           0.84      5404\n",
      "    macro avg       0.66      0.82      0.70      5404\n",
      " weighted avg       0.91      0.84      0.86      5404\n",
      "\n"
     ]
    },
    {
     "data": {
      "image/png": "[encoded data removed]",
      "text/plain": [
       "<Figure size 748.8x514.8 with 2 Axes>"
      ]
     },
     "metadata": {
      "needs_background": "light"
     },
     "output_type": "display_data"
    }
   ],
   "source": [
    "y_hat_test = logreg.predict(X_test)\n",
    "print(classification_report(y_test,y_hat_test,target_names=['Not Expensive','Expensive']))\n",
    "plot_confusion_matrix(logreg,X_test,y_test,cmap='Blues',normalize='true');"
   ]
  },
  {
   "cell_type": "markdown",
   "metadata": {
    "id": "De2c3piIUr3A"
   },
   "source": [
    "# Appendix"
   ]
  },
  {
   "cell_type": "markdown",
   "metadata": {
    "id": "Ah28ppYCUr3A"
   },
   "source": [
    "### Converting Odds to Probability"
   ]
  },
  {
   "cell_type": "markdown",
   "metadata": {
    "id": "wTQ6oHgwUr3A"
   },
   "source": [
    "\n",
    "$$odds = \\frac {probability} {1 - probability}$$\n",
    "\n",
    "$$probability = \\frac {odds} {1 + odds}$$\n",
    "\n",
    "And so the logit function represents the **log-odds** of success (y=1)."
   ]
  },
  {
   "cell_type": "code",
   "execution_count": 34,
   "metadata": {
    "ExecuteTime": {
     "start_time": "2021-10-07T15:08:26.045Z"
    },
    "colab": {
     "base_uri": "https://localhost:8080/"
    },
    "id": "bkjdZK3jUr3A",
    "outputId": "68277637-7c1d-4d01-fb89-6085f9b2c674"
   },
   "outputs": [
    {
     "data": {
      "text/plain": [
       "bedrooms      0.8331\n",
       "bathrooms     1.1545\n",
       "sqft_living   1.0022\n",
       "intercept     0.0039\n",
       "dtype: float64"
      ]
     },
     "execution_count": 34,
     "metadata": {},
     "output_type": "execute_result"
    }
   ],
   "source": [
    "odds = np.exp(get_coeffs(logreg,X_train))\n",
    "odds"
   ]
  },
  {
   "cell_type": "code",
   "execution_count": 35,
   "metadata": {
    "ExecuteTime": {
     "start_time": "2021-10-07T15:08:26.050Z"
    },
    "colab": {
     "base_uri": "https://localhost:8080/"
    },
    "id": "mcdzDMpVUr3A",
    "outputId": "67f4c12f-a6f6-40c8-d8b0-5a2d9de81f44"
   },
   "outputs": [
    {
     "data": {
      "text/plain": [
       "bedrooms      0.4545\n",
       "bathrooms     0.5358\n",
       "sqft_living   0.5006\n",
       "intercept     0.0039\n",
       "dtype: float64"
      ]
     },
     "execution_count": 35,
     "metadata": {},
     "output_type": "execute_result"
    }
   ],
   "source": [
    "## convert odds to prob\n",
    "prob = odds/(1+odds)\n",
    "prob"
   ]
  },
  {
   "cell_type": "code",
   "execution_count": 36,
   "metadata": {
    "ExecuteTime": {
     "start_time": "2021-10-07T15:08:26.053Z"
    },
    "id": "usMQerD1Ur3A"
   },
   "outputs": [],
   "source": [
    "# update function to return \n",
    "def get_coefficients(model,X_train,units = \"log-odds\"):\n",
    "    \"\"\"Returns model coefficients. \n",
    "    \n",
    "    Args:\n",
    "        model: sklearn model with the .coef_ attribute. \n",
    "        X_train: dataframe with the feature names as the .columns\n",
    "        units (str): Can be ['log-odds','odds','prob']\n",
    "        \"\"\"\n",
    "    options = ['log-odds','odds','prob']\n",
    "    \n",
    "    if units not in options:\n",
    "        raise Exception(f'units must be one of {options}')\n",
    "        \n",
    "    coeffs = pd.Series(model.coef_.flatten(), index=X_train.columns)\n",
    "    coeffs['intercept'] = model.intercept_[0]\n",
    "    \n",
    "    if units=='odds':\n",
    "        coeffs = np.exp(coeffs)\n",
    "        \n",
    "    elif units=='prob':\n",
    "        coeffs = np.exp(coeffs)\n",
    "        coeffs = coeffs/(1+coeffs)\n",
    "        \n",
    "\n",
    "    coeffs.name=units\n",
    "    return coeffs"
   ]
  },
  {
   "cell_type": "code",
   "execution_count": 37,
   "metadata": {
    "ExecuteTime": {
     "start_time": "2021-10-07T15:08:26.056Z"
    },
    "colab": {
     "base_uri": "https://localhost:8080/",
     "height": 168
    },
    "id": "lk2U1nyOUr3A",
    "outputId": "4b5e4f52-77a1-42b3-dd5f-0b59f70d57e5"
   },
   "outputs": [
    {
     "ename": "Exception",
     "evalue": "ignored",
     "output_type": "error",
     "traceback": [
      "\u001b[0;31m---------------------------------------------------------------------------\u001b[0m",
      "\u001b[0;31mException\u001b[0m                                 Traceback (most recent call last)",
      "\u001b[0;32m<ipython-input-37-865615ca4231>\u001b[0m in \u001b[0;36m<module>\u001b[0;34m()\u001b[0m\n\u001b[0;32m----> 1\u001b[0;31m \u001b[0;32mraise\u001b[0m \u001b[0mException\u001b[0m\u001b[0;34m(\u001b[0m\u001b[0;34m'Appendices below. Exlclude from Run All'\u001b[0m\u001b[0;34m)\u001b[0m\u001b[0;34m\u001b[0m\u001b[0;34m\u001b[0m\u001b[0m\n\u001b[0m",
      "\u001b[0;31mException\u001b[0m: Appendices below. Exlclude from Run All"
     ]
    }
   ],
   "source": [
    "raise Exception('Appendices below. Exlclude from Run All')"
   ]
  },
  {
   "cell_type": "markdown",
   "metadata": {
    "id": "J7EwmvOVUr3A"
   },
   "source": [
    "### Interpreting Odds Coefficients"
   ]
  },
  {
   "cell_type": "code",
   "execution_count": null,
   "metadata": {
    "id": "F1lm4VlRUr3A"
   },
   "outputs": [],
   "source": []
  },
  {
   "cell_type": "markdown",
   "metadata": {
    "id": "s9pjAEZDUr3A"
   },
   "source": [
    "#### Interpreting Odds Coefficients\n",
    "> ***“For every one-unit increase in [X variable], the odds that the observation is in (y class) are [coefficient] times as large as the odds that the observation is not in (y class) (when all other variables are held constant).”***"
   ]
  },
  {
   "cell_type": "code",
   "execution_count": null,
   "metadata": {
    "ExecuteTime": {
     "start_time": "2021-10-07T15:08:26.061Z"
    },
    "id": "qW-PZV4xUr3A"
   },
   "outputs": [],
   "source": [
    "## Odds are how much more likely to fall into 1 class than 0 class\n",
    "coeffs_odds = np.exp(get_coeffs(logreg,X_train))\n",
    "coeffs_odds"
   ]
  },
  {
   "cell_type": "markdown",
   "metadata": {
    "ExecuteTime": {
     "end_time": "2021-09-28T22:53:09.992922Z",
     "start_time": "2021-09-28T22:53:09.989464Z"
    },
    "id": "e8IifXO7Ur3A"
   },
   "source": [
    "- For \"bedrooms\"=0.8577: \n",
    "    - For every 1-bedroom-increase in bedrooms, the odds that the house is Expensive (class=1) are 0.86 x as large as the odds that the home is Not Expensive (class=0)\n",
    "- For \"bathrooms\" = 1.0699:\n",
    "    - For every 1-bathroom increase  in bathrooms, the odds the house is Expensive (class=1) is 1.07 times as large as the odds that it is Not Expensive. \n",
    "- For sqft_living=1.0021\n",
    "    - For every 1-sqft increase in sqft_living, the odds the house is Expensive is 1.0021 times the odds that the home is Not Expensive. \n"
   ]
  },
  {
   "cell_type": "code",
   "execution_count": null,
   "metadata": {
    "ExecuteTime": {
     "start_time": "2021-10-07T15:08:26.064Z"
    },
    "id": "MMXTJAhgUr3A"
   },
   "outputs": [],
   "source": [
    "odds_expensive = house['bedrooms']*coeffs_odds['bedrooms'] + \\\n",
    "        house['bathrooms']*coeffs_odds['bathrooms'] + \\\n",
    "        house['sqft_living']*coeffs_odds['sqft_living'] + coeffs_odds['intercept']\n",
    "\n",
    "odds_expensive"
   ]
  },
  {
   "cell_type": "markdown",
   "metadata": {
    "id": "MCfk1YilUr3B"
   },
   "source": [
    "### Titanic"
   ]
  },
  {
   "cell_type": "code",
   "execution_count": null,
   "metadata": {
    "ExecuteTime": {
     "start_time": "2021-10-07T15:08:26.067Z"
    },
    "id": "pPcA9W9wUr3B"
   },
   "outputs": [],
   "source": [
    "dft = fs.datasets.load_titanic(kaggle=False, read_csv_kwds={'index_col':0})\n",
    "relevant_columns = ['Pclass', 'Age', 'SibSp', 'Fare', 'Sex', 'Embarked', 'Survived']\n",
    "dft =dft[relevant_columns]\n",
    "dft"
   ]
  }
 ],
 "metadata": {
  "colab": {
   "collapsed_sections": [
    "RcXgpoKMUr28",
    "I4g5udB7Ur28",
    "3HDIS2PFUr2-",
    "iBHTnLWYUr2_",
    "177166rlUr2_",
    "X9sNw6L5Ur2_",
    "VZbj_stMUr3A",
    "Ah28ppYCUr3A",
    "J7EwmvOVUr3A",
    "s9pjAEZDUr3A",
    "MCfk1YilUr3B"
   ],
   "include_colab_link": true,
   "name": "Share Copy of From Linear to Logistic Regression  -  SOLUTION.ipynb",
   "provenance": []
  },
  "kernelspec": {
   "display_name": "Python (dojo-env)",
   "language": "python",
   "name": "dojo-env"
  },
  "language_info": {
   "codemirror_mode": {
    "name": "ipython",
    "version": 3
   },
   "file_extension": ".py",
   "mimetype": "text/x-python",
   "name": "python",
   "nbconvert_exporter": "python",
   "pygments_lexer": "ipython3",
   "version": "3.9.15"
  },
  "toc": {
   "base_numbering": 1,
   "nav_menu": {},
   "number_sections": true,
   "sideBar": true,
   "skip_h1_title": false,
   "title_cell": "Table of Contents",
   "title_sidebar": "Contents",
   "toc_cell": true,
   "toc_position": {
    "height": "calc(100% - 180px)",
    "left": "10px",
    "top": "150px",
    "width": "320px"
   },
   "toc_section_display": true,
   "toc_window_display": true
  }
 },
 "nbformat": 4,
 "nbformat_minor": 1
}
